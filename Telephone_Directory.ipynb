{
  "nbformat": 4,
  "nbformat_minor": 0,
  "metadata": {
    "colab": {
      "provenance": [],
      "authorship_tag": "ABX9TyNY9HHXUdGGz/1ttnf9IvS9",
      "include_colab_link": true
    },
    "kernelspec": {
      "name": "python3",
      "display_name": "Python 3"
    },
    "language_info": {
      "name": "python"
    }
  },
  "cells": [
    {
      "cell_type": "markdown",
      "metadata": {
        "id": "view-in-github",
        "colab_type": "text"
      },
      "source": [
        "<a href=\"https://colab.research.google.com/github/KishorAlagappan/MongoDB-Task/blob/main/Telephone_Directory.ipynb\" target=\"_parent\"><img src=\"https://colab.research.google.com/assets/colab-badge.svg\" alt=\"Open In Colab\"/></a>"
      ]
    },
    {
      "cell_type": "markdown",
      "source": [
        "***Telephone Directory CRUD Operation***"
      ],
      "metadata": {
        "id": "B7RUjvB5syeo"
      }
    },
    {
      "cell_type": "code",
      "source": [
        "!pip install pymongo "
      ],
      "metadata": {
        "colab": {
          "base_uri": "https://localhost:8080/"
        },
        "id": "Z2ORX39cXkdA",
        "outputId": "f8e03614-4604-4d3a-ed56-29cefe8074e4"
      },
      "execution_count": null,
      "outputs": [
        {
          "output_type": "stream",
          "name": "stdout",
          "text": [
            "Looking in indexes: https://pypi.org/simple, https://us-python.pkg.dev/colab-wheels/public/simple/\n",
            "Requirement already satisfied: pymongo in /usr/local/lib/python3.7/dist-packages (4.3.3)\n",
            "Requirement already satisfied: dnspython<3.0.0,>=1.16.0 in /usr/local/lib/python3.7/dist-packages (from pymongo) (2.2.1)\n"
          ]
        }
      ]
    },
    {
      "cell_type": "markdown",
      "source": [
        "**1.Import necessary modules.**"
      ],
      "metadata": {
        "id": "PNEsatP4swrj"
      }
    },
    {
      "cell_type": "code",
      "source": [
        "import pymongo\n",
        "from pymongo import MongoClient"
      ],
      "metadata": {
        "id": "52BLdqWEfv_Z"
      },
      "execution_count": null,
      "outputs": []
    },
    {
      "cell_type": "code",
      "source": [
        "record = MongoClient('mongodb+srv://Kishor:<kishor16s@>@cluster0.ee5mqy8.mongodb.net/?retryWrites=true&w=majority')\n"
      ],
      "metadata": {
        "id": "vPjIkxBRpmcl"
      },
      "execution_count": null,
      "outputs": []
    },
    {
      "cell_type": "markdown",
      "source": [
        "**2.Create Database with name *db*.**\n",
        "\n",
        "\n"
      ],
      "metadata": {
        "id": "BLs-nOuktGRj"
      }
    },
    {
      "cell_type": "code",
      "source": [
        "db = record['TELEPHONE_DIRECTORY']\n"
      ],
      "metadata": {
        "id": "zChnlmulpsYF"
      },
      "execution_count": null,
      "outputs": []
    },
    {
      "cell_type": "markdown",
      "source": [
        "**2. Creating a collection.**"
      ],
      "metadata": {
        "id": "wnMOiQvJta8h"
      }
    },
    {
      "cell_type": "code",
      "source": [
        "record = db['directory']"
      ],
      "metadata": {
        "id": "WY1czN7IpuOt"
      },
      "execution_count": null,
      "outputs": []
    },
    {
      "cell_type": "markdown",
      "source": [
        "**3. Insert the record into the collection.**"
      ],
      "metadata": {
        "id": "6Yr-vqhBtdRH"
      }
    },
    {
      "cell_type": "code",
      "source": [
        "record.insert_many([{\"Name\":\"Kishor\",\"Age\":23,\"Phone_number\":9632154678,\"Address\":\"Banglore\",\"State\":\"Karnataka\"},{\"Name\":\"Sharan\",\"Age\":26,\"Phone_number\":9632123478,\"Address\":\"Banglore\"},{\"Name\":\"Kavya\",\"Age\":27,\"Phone_number\":7812452634,\"Address\":\"Chennia\"},{\"Name\":\"Sindhu\",\"Age\":26,\"Phone_number\":7845128956,\"Address\":\"Patna\"},{\"Name\":\"Samarth\",\"Age\":31,\"Phone_number\":7722772277,\"Address\":\"Hubli\"},{\"Name\":\"Vidya\",\"Age\":24,\"Phone_number\":9756123789,\"Address\":\"Banglore\"},{\"Name\":\"Kishor\",\"Age\":28,\"Phone_number\":9632154678,\"Address\":\"Banglore\"}])"
      ],
      "metadata": {
        "id": "GGsYv4Y-pvK7"
      },
      "execution_count": null,
      "outputs": []
    },
    {
      "cell_type": "markdown",
      "source": [
        "**4. Make a query to find the records you just created.**"
      ],
      "metadata": {
        "id": "YY9paPodt75L"
      }
    },
    {
      "cell_type": "code",
      "source": [
        "a=record.find()\n",
        "for i in a:\n",
        "  print(i)"
      ],
      "metadata": {
        "id": "w5_BLLbkqVgk"
      },
      "execution_count": null,
      "outputs": []
    },
    {
      "cell_type": "markdown",
      "source": [
        "**5. Modify the records, use the update_one() method.**"
      ],
      "metadata": {
        "id": "yldt5W_EuF92"
      }
    },
    {
      "cell_type": "code",
      "source": [
        "b=record.update_one({\"Name\":'keshavan'},{'$set':{'Age':'33'}})"
      ],
      "metadata": {
        "id": "OxATCFBnqWT2"
      },
      "execution_count": null,
      "outputs": []
    },
    {
      "cell_type": "markdown",
      "source": [
        "**6.The update_one() method requires two arguments, query and update.**"
      ],
      "metadata": {
        "id": "YJs-8s_euWU6"
      }
    },
    {
      "cell_type": "code",
      "source": [
        "c = record.update_one({\"Name\":\"Kishor\"},{\"$unset\":{\"State\":\"Karnataka\"}})"
      ],
      "metadata": {
        "id": "EtTaKHN5qZ3u"
      },
      "execution_count": null,
      "outputs": []
    },
    {
      "cell_type": "markdown",
      "source": [
        "**7.Delete the record, use delete_one() method**"
      ],
      "metadata": {
        "id": "o2B_7Z5Fvoqn"
      }
    },
    {
      "cell_type": "code",
      "source": [
        "d=record.delete_one({\"Name\":\"Kishor\"})"
      ],
      "metadata": {
        "id": "UsikvdzGqd1N"
      },
      "execution_count": null,
      "outputs": []
    }
  ]
}